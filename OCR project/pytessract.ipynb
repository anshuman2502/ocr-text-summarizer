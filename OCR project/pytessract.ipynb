{
 "cells": [
  {
   "cell_type": "code",
   "execution_count": 1,
   "id": "7ab039eb",
   "metadata": {},
   "outputs": [],
   "source": [
    "import pytesseract"
   ]
  },
  {
   "cell_type": "code",
   "execution_count": 2,
   "id": "149bff2c",
   "metadata": {},
   "outputs": [],
   "source": [
    "from PIL import Image"
   ]
  },
  {
   "cell_type": "code",
   "execution_count": 3,
   "id": "dfabfb49",
   "metadata": {},
   "outputs": [],
   "source": [
    "img_file=\"temp/page_01.jpg\"\n",
    "no_noise=\"temp/border_img.jpg\""
   ]
  },
  {
   "cell_type": "code",
   "execution_count": 4,
   "id": "03d3b049",
   "metadata": {},
   "outputs": [],
   "source": [
    "img = Image.open(no_noise)"
   ]
  },
  {
   "cell_type": "code",
   "execution_count": 5,
   "id": "736f8242",
   "metadata": {},
   "outputs": [],
   "source": [
    "ocr_result= pytesseract.image_to_string(no_noise)"
   ]
  },
  {
   "cell_type": "code",
   "execution_count": 6,
   "id": "03d5609a",
   "metadata": {},
   "outputs": [
    {
     "name": "stdout",
     "output_type": "stream",
     "text": [
      "«Veter nA\n",
      "\n",
      "pues saphoob we\n",
      "\n",
      "de seegntys war TY Me™ y\n",
      "eqeumnd aa qmehy YOR TE\n",
      "\n",
      "a rc\n",
      "\n",
      "wa Dern\n",
      "weak eet ay pepe\n",
      "\n",
      "wrk wo dedak 0 yap se vey\n",
      "\n",
      "\n"
     ]
    }
   ],
   "source": [
    "print(ocr_result)"
   ]
  },
  {
   "cell_type": "code",
   "execution_count": 7,
   "id": "12b52a4a",
   "metadata": {},
   "outputs": [
    {
     "name": "stdout",
     "output_type": "stream",
     "text": [
      "<class 'str'>\n"
     ]
    }
   ],
   "source": [
    "type_var = type(ocr_result)\n",
    "print(type_var)"
   ]
  },
  {
   "cell_type": "code",
   "execution_count": 8,
   "id": "ccf63989",
   "metadata": {},
   "outputs": [],
   "source": [
    "with open (\"output.txt\",\"w\",encoding =\"utf-8\")as file:\n",
    "    file.write (ocr_result)"
   ]
  },
  {
   "cell_type": "code",
   "execution_count": null,
   "id": "d4331ba8",
   "metadata": {},
   "outputs": [],
   "source": []
  },
  {
   "cell_type": "code",
   "execution_count": null,
   "id": "1c8b70c2",
   "metadata": {},
   "outputs": [],
   "source": []
  }
 ],
 "metadata": {
  "kernelspec": {
   "display_name": "Python 3 (ipykernel)",
   "language": "python",
   "name": "python3"
  },
  "language_info": {
   "codemirror_mode": {
    "name": "ipython",
    "version": 3
   },
   "file_extension": ".py",
   "mimetype": "text/x-python",
   "name": "python",
   "nbconvert_exporter": "python",
   "pygments_lexer": "ipython3",
   "version": "3.11.3"
  }
 },
 "nbformat": 4,
 "nbformat_minor": 5
}
