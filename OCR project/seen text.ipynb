{
 "cells": [
  {
   "cell_type": "code",
   "execution_count": 1,
   "id": "7c3dc960",
   "metadata": {},
   "outputs": [],
   "source": [
    "import pytesseract"
   ]
  },
  {
   "cell_type": "code",
   "execution_count": 2,
   "id": "7bcb2540",
   "metadata": {},
   "outputs": [],
   "source": [
    "import cv2"
   ]
  },
  {
   "cell_type": "code",
   "execution_count": 16,
   "id": "a61dac22",
   "metadata": {},
   "outputs": [],
   "source": [
    "image =cv2.imread(\"resource/data set.jpg\")\n",
    "base=image.copy()"
   ]
  },
  {
   "cell_type": "code",
   "execution_count": 17,
   "id": "e70b5f91",
   "metadata": {},
   "outputs": [],
   "source": [
    "gray = cv2.cvtColor(image, cv2.COLOR_BGR2GRAY)\n",
    "blur = cv2.GaussianBlur(gray, (7, 7), 0)\n",
    "thresh = cv2.threshold(blur, 0, 255, cv2.THRESH_BINARY_INV + cv2.THRESH_OTSU)[1]"
   ]
  },
  {
   "cell_type": "code",
   "execution_count": 18,
   "id": "df03fd0a",
   "metadata": {},
   "outputs": [],
   "source": [
    "kernal = cv2.getStructuringElement( cv2.MORPH_RECT, (3, 50))\n",
    "\n",
    "dilate=cv2.dilate(thresh, kernal, iterations=1)"
   ]
  },
  {
   "cell_type": "code",
   "execution_count": 19,
   "id": "5c3ff015",
   "metadata": {},
   "outputs": [
    {
     "data": {
      "text/plain": [
       "True"
      ]
     },
     "execution_count": 19,
     "metadata": {},
     "output_type": "execute_result"
    }
   ],
   "source": [
    "cv2.imwrite(\"temp/sample_dilated.png\", dilate)"
   ]
  },
  {
   "cell_type": "code",
   "execution_count": 20,
   "id": "bf53d7e7",
   "metadata": {},
   "outputs": [],
   "source": [
    "cnts=cv2.findContours (dilate, cv2.RETR_EXTERNAL, cv2.CHAIN_APPROX_SIMPLE)\n",
    "cnts= cnts[0] if len(cnts) == 2 else cnts[1]\n",
    "cnts = sorted (cnts, key=lambda x: cv2.boundingRect(x)[1])"
   ]
  },
  {
   "cell_type": "code",
   "execution_count": 21,
   "id": "f093db27",
   "metadata": {},
   "outputs": [
    {
     "ename": "NameError",
     "evalue": "name 'base_image' is not defined",
     "output_type": "error",
     "traceback": [
      "\u001b[1;31m---------------------------------------------------------------------------\u001b[0m",
      "\u001b[1;31mNameError\u001b[0m                                 Traceback (most recent call last)",
      "Cell \u001b[1;32mIn[21], line 5\u001b[0m\n\u001b[0;32m      3\u001b[0m     x,y,w,h\u001b[38;5;241m=\u001b[39m cv2\u001b[38;5;241m.\u001b[39mboundingRect(c) \n\u001b[0;32m      4\u001b[0m     \u001b[38;5;28;01mif\u001b[39;00m h\u001b[38;5;241m>\u001b[39m\u001b[38;5;241m200\u001b[39m \u001b[38;5;129;01mand\u001b[39;00m w\u001b[38;5;241m>\u001b[39m\u001b[38;5;241m250\u001b[39m:\n\u001b[1;32m----> 5\u001b[0m         roi \u001b[38;5;241m=\u001b[39mbase_image[y:y\u001b[38;5;241m+\u001b[39mh, x:x\u001b[38;5;241m+\u001b[39mw]\n\u001b[0;32m      6\u001b[0m         cv2\u001b[38;5;241m.\u001b[39mrectangle(image, (x,y), (x\u001b[38;5;241m+\u001b[39mw, y\u001b[38;5;241m+\u001b[39mh), (\u001b[38;5;241m36\u001b[39m, \u001b[38;5;241m255\u001b[39m, \u001b[38;5;241m12\u001b[39m), \u001b[38;5;241m2\u001b[39m)\n\u001b[0;32m      8\u001b[0m cv2\u001b[38;5;241m.\u001b[39mimwrite(\u001b[38;5;124m\"\u001b[39m\u001b[38;5;124mtemp/sample_boxes.png\u001b[39m\u001b[38;5;124m\"\u001b[39m, image)\n",
      "\u001b[1;31mNameError\u001b[0m: name 'base_image' is not defined"
     ]
    }
   ],
   "source": [
    "for c in cnts:\n",
    "\n",
    "    x,y,w,h= cv2.boundingRect(c) \n",
    "    if h>200 and w>250:\n",
    "        roi =base_image[y:y+h, x:x+w]\n",
    "        cv2.rectangle(image, (x,y), (x+w, y+h), (36, 255, 12), 2)\n",
    "\n",
    "cv2.imwrite(\"temp/sample_boxes.png\", image)"
   ]
  },
  {
   "cell_type": "code",
   "execution_count": 22,
   "id": "be348d1f",
   "metadata": {},
   "outputs": [
    {
     "ename": "NameError",
     "evalue": "name 'base_image' is not defined",
     "output_type": "error",
     "traceback": [
      "\u001b[1;31m---------------------------------------------------------------------------\u001b[0m",
      "\u001b[1;31mNameError\u001b[0m                                 Traceback (most recent call last)",
      "Cell \u001b[1;32mIn[22], line 1\u001b[0m\n\u001b[1;32m----> 1\u001b[0m ocr_result_org \u001b[38;5;241m=\u001b[39m pytesseract\u001b[38;5;241m.\u001b[39mimage_to_string(base_image)\n",
      "\u001b[1;31mNameError\u001b[0m: name 'base_image' is not defined"
     ]
    }
   ],
   "source": [
    "ocr_result_org = pytesseract.image_to_string(base_image)"
   ]
  },
  {
   "cell_type": "code",
   "execution_count": 23,
   "id": "f544f829",
   "metadata": {},
   "outputs": [
    {
     "ename": "NameError",
     "evalue": "name 'ocr_result_org' is not defined",
     "output_type": "error",
     "traceback": [
      "\u001b[1;31m---------------------------------------------------------------------------\u001b[0m",
      "\u001b[1;31mNameError\u001b[0m                                 Traceback (most recent call last)",
      "Cell \u001b[1;32mIn[23], line 1\u001b[0m\n\u001b[1;32m----> 1\u001b[0m \u001b[38;5;28mprint\u001b[39m(ocr_result_org)\n",
      "\u001b[1;31mNameError\u001b[0m: name 'ocr_result_org' is not defined"
     ]
    }
   ],
   "source": [
    "print(ocr_result_org)"
   ]
  },
  {
   "cell_type": "code",
   "execution_count": 24,
   "id": "2ebb45d2",
   "metadata": {},
   "outputs": [
    {
     "ename": "NameError",
     "evalue": "name 'roi' is not defined",
     "output_type": "error",
     "traceback": [
      "\u001b[1;31m---------------------------------------------------------------------------\u001b[0m",
      "\u001b[1;31mNameError\u001b[0m                                 Traceback (most recent call last)",
      "Cell \u001b[1;32mIn[24], line 1\u001b[0m\n\u001b[1;32m----> 1\u001b[0m ocr_new\u001b[38;5;241m=\u001b[39mpytesseract\u001b[38;5;241m.\u001b[39mimage_to_string(roi)\n",
      "\u001b[1;31mNameError\u001b[0m: name 'roi' is not defined"
     ]
    }
   ],
   "source": [
    "ocr_new=pytesseract.image_to_string(roi)"
   ]
  },
  {
   "cell_type": "code",
   "execution_count": 25,
   "id": "f70e09b4",
   "metadata": {},
   "outputs": [
    {
     "ename": "NameError",
     "evalue": "name 'ocr_new' is not defined",
     "output_type": "error",
     "traceback": [
      "\u001b[1;31m---------------------------------------------------------------------------\u001b[0m",
      "\u001b[1;31mNameError\u001b[0m                                 Traceback (most recent call last)",
      "Cell \u001b[1;32mIn[25], line 1\u001b[0m\n\u001b[1;32m----> 1\u001b[0m \u001b[38;5;28mprint\u001b[39m(ocr_new)\n",
      "\u001b[1;31mNameError\u001b[0m: name 'ocr_new' is not defined"
     ]
    }
   ],
   "source": [
    "print(ocr_new)"
   ]
  },
  {
   "cell_type": "code",
   "execution_count": null,
   "id": "62124cfa",
   "metadata": {},
   "outputs": [],
   "source": []
  },
  {
   "cell_type": "code",
   "execution_count": null,
   "id": "ca44620e",
   "metadata": {},
   "outputs": [],
   "source": []
  }
 ],
 "metadata": {
  "kernelspec": {
   "display_name": "Python 3 (ipykernel)",
   "language": "python",
   "name": "python3"
  },
  "language_info": {
   "codemirror_mode": {
    "name": "ipython",
    "version": 3
   },
   "file_extension": ".py",
   "mimetype": "text/x-python",
   "name": "python",
   "nbconvert_exporter": "python",
   "pygments_lexer": "ipython3",
   "version": "3.11.3"
  }
 },
 "nbformat": 4,
 "nbformat_minor": 5
}
