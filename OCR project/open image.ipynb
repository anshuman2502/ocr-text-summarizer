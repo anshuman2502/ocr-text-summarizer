{
 "cells": [
  {
   "cell_type": "code",
   "execution_count": 6,
   "id": "17657378",
   "metadata": {},
   "outputs": [],
   "source": [
    "from PIL import Image"
   ]
  },
  {
   "cell_type": "code",
   "execution_count": 7,
   "id": "8c76ecb2",
   "metadata": {},
   "outputs": [],
   "source": [
    "im_file=\"resource/data set.jpg\""
   ]
  },
  {
   "cell_type": "code",
   "execution_count": 8,
   "id": "602fc387",
   "metadata": {},
   "outputs": [],
   "source": [
    "im = Image.open(im_file)"
   ]
  },
  {
   "cell_type": "code",
   "execution_count": 9,
   "id": "4e735e30",
   "metadata": {},
   "outputs": [
    {
     "name": "stdout",
     "output_type": "stream",
     "text": [
      "(648, 1152)\n"
     ]
    }
   ],
   "source": [
    "print(im.size)"
   ]
  },
  {
   "cell_type": "code",
   "execution_count": 10,
   "id": "6d188f7d",
   "metadata": {},
   "outputs": [],
   "source": [
    "im.show()"
   ]
  },
  {
   "cell_type": "code",
   "execution_count": 11,
   "id": "8ee913c1",
   "metadata": {},
   "outputs": [],
   "source": [
    "im.save(\"temp/page_01.jpg\")"
   ]
  },
  {
   "cell_type": "code",
   "execution_count": null,
   "id": "aaf30381",
   "metadata": {},
   "outputs": [],
   "source": []
  },
  {
   "cell_type": "code",
   "execution_count": null,
   "id": "c177aca9",
   "metadata": {},
   "outputs": [],
   "source": []
  }
 ],
 "metadata": {
  "kernelspec": {
   "display_name": "Python 3 (ipykernel)",
   "language": "python",
   "name": "python3"
  },
  "language_info": {
   "codemirror_mode": {
    "name": "ipython",
    "version": 3
   },
   "file_extension": ".py",
   "mimetype": "text/x-python",
   "name": "python",
   "nbconvert_exporter": "python",
   "pygments_lexer": "ipython3",
   "version": "3.11.3"
  }
 },
 "nbformat": 4,
 "nbformat_minor": 5
}
