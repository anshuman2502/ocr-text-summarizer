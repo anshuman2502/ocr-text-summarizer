{
 "cells": [
  {
   "cell_type": "code",
   "execution_count": 1,
   "id": "1ebfe39b",
   "metadata": {},
   "outputs": [],
   "source": [
    "import pytesseract \n",
    "import cv2"
   ]
  },
  {
   "cell_type": "code",
   "execution_count": 2,
   "id": "a40f8552",
   "metadata": {},
   "outputs": [],
   "source": [
    "image =cv2.imread(\"C:/Users/SHANKS/Desktop/data set.jpg\")\n",
    "base_image =image.copy()"
   ]
  },
  {
   "cell_type": "code",
   "execution_count": 3,
   "id": "032dd31a",
   "metadata": {},
   "outputs": [],
   "source": [
    "gray = cv2.cvtColor(image, cv2.COLOR_BGR2GRAY)"
   ]
  },
  {
   "cell_type": "code",
   "execution_count": 4,
   "id": "315e1ecc",
   "metadata": {},
   "outputs": [
    {
     "data": {
      "text/plain": [
       "True"
      ]
     },
     "execution_count": 4,
     "metadata": {},
     "output_type": "execute_result"
    }
   ],
   "source": [
    "cv2.imwrite(\"temp/index_gray.jpg\",gray)"
   ]
  },
  {
   "cell_type": "code",
   "execution_count": 5,
   "id": "d0dca3be",
   "metadata": {},
   "outputs": [],
   "source": [
    "blur =cv2.GaussianBlur(gray,(7,7),0)"
   ]
  },
  {
   "cell_type": "code",
   "execution_count": 6,
   "id": "23b18536",
   "metadata": {},
   "outputs": [
    {
     "data": {
      "text/plain": [
       "True"
      ]
     },
     "execution_count": 6,
     "metadata": {},
     "output_type": "execute_result"
    }
   ],
   "source": [
    "cv2.imwrite(\"temp/index_blur.jpg\",blur)"
   ]
  },
  {
   "cell_type": "code",
   "execution_count": 7,
   "id": "a1d923c5",
   "metadata": {},
   "outputs": [],
   "source": [
    "thresh =cv2.threshold(blur,0,255, cv2.THRESH_BINARY_INV + cv2.THRESH_OTSU)[1]"
   ]
  },
  {
   "cell_type": "code",
   "execution_count": 8,
   "id": "64fec3d6",
   "metadata": {},
   "outputs": [
    {
     "data": {
      "text/plain": [
       "True"
      ]
     },
     "execution_count": 8,
     "metadata": {},
     "output_type": "execute_result"
    }
   ],
   "source": [
    "cv2.imwrite(\"temp/index_thresh.jpg\", blur)"
   ]
  },
  {
   "cell_type": "code",
   "execution_count": 9,
   "id": "9bd4f52d",
   "metadata": {},
   "outputs": [],
   "source": [
    "kernal =cv2.getStructuringElement(cv2.MORPH_RECT,(3,13)) "
   ]
  },
  {
   "cell_type": "code",
   "execution_count": 10,
   "id": "142e185e",
   "metadata": {},
   "outputs": [
    {
     "data": {
      "text/plain": [
       "True"
      ]
     },
     "execution_count": 10,
     "metadata": {},
     "output_type": "execute_result"
    }
   ],
   "source": [
    "cv2.imwrite(\"temp/index_thresh.jpg\",kernal)"
   ]
  },
  {
   "cell_type": "code",
   "execution_count": 11,
   "id": "83e50003",
   "metadata": {},
   "outputs": [],
   "source": [
    "dilate =cv2.dilate(thresh, kernal, iterations=1)"
   ]
  },
  {
   "cell_type": "code",
   "execution_count": 12,
   "id": "2a6b4fb4",
   "metadata": {},
   "outputs": [
    {
     "data": {
      "text/plain": [
       "True"
      ]
     },
     "execution_count": 12,
     "metadata": {},
     "output_type": "execute_result"
    }
   ],
   "source": [
    "cv2.imwrite(\"temp/index_dilate.jpg\", dilate)"
   ]
  },
  {
   "cell_type": "code",
   "execution_count": 13,
   "id": "37abd695",
   "metadata": {},
   "outputs": [],
   "source": [
    "cnts = cv2.findContours(dilate, cv2.RETR_EXTERNAL, cv2.CHAIN_APPROX_SIMPLE)"
   ]
  },
  {
   "cell_type": "code",
   "execution_count": 14,
   "id": "2e44c7fc",
   "metadata": {},
   "outputs": [],
   "source": [
    "cnts = cnts[0] if len(cnts) == 2 else cents[1]"
   ]
  },
  {
   "cell_type": "code",
   "execution_count": 15,
   "id": "9feca39c",
   "metadata": {},
   "outputs": [],
   "source": [
    "cnts = sorted(cnts, key=lambda x: cv2.boundingRect(x)[0])"
   ]
  },
  {
   "cell_type": "code",
   "execution_count": 18,
   "id": "1232d3f2",
   "metadata": {},
   "outputs": [
    {
     "data": {
      "text/plain": [
       "True"
      ]
     },
     "execution_count": 18,
     "metadata": {},
     "output_type": "execute_result"
    }
   ],
   "source": [
    "results=[]\n",
    "for c in cnts:\n",
    "    x,y,w,h =cv2.boundingRect(c)\n",
    "    if h>200 and w>20:\n",
    "        roi = image[y:y+h,x:x+h]\n",
    "        cv2.imwrite(\"temp/index_bbox_new.jpg\",roi)\n",
    "        cv2.rectangle(image, (x,y),(x+w, y+h),(36,255,12),2)\n",
    "        ocr_result=pytesseract.image_to_string(roi)\n",
    "        ocr_result=ocr_result.split(\"\\n\")\n",
    "        for item in ocr_result:\n",
    "            results.append(item)\n",
    "cv2.imwrite(\"temp/index_bbox.jpg\",image)"
   ]
  },
  {
   "cell_type": "code",
   "execution_count": 19,
   "id": "e76e56a5",
   "metadata": {},
   "outputs": [
    {
     "name": "stdout",
     "output_type": "stream",
     "text": [
      "['']\n"
     ]
    }
   ],
   "source": [
    "print(results)"
   ]
  },
  {
   "cell_type": "code",
   "execution_count": 20,
   "id": "cc1c4d48",
   "metadata": {},
   "outputs": [],
   "source": [
    "entities=[]\n",
    "for item in results:\n",
    "    item =item.strip().replace(\"\\n\",\"\")\n",
    "    item = item.split(\" \")[0]\n",
    "    if len(item)>2:\n",
    "        if item[0].isupper() and item[0]=='A' and \"-\" not in item:\n",
    "            item=item.split(\".\")[0].replace(\",\", \"\").replace(\";\",\"\")\n",
    "            entities.append(item)"
   ]
  },
  {
   "cell_type": "code",
   "execution_count": 21,
   "id": "cecc7990",
   "metadata": {},
   "outputs": [
    {
     "name": "stdout",
     "output_type": "stream",
     "text": [
      "[]\n"
     ]
    }
   ],
   "source": [
    "print (entities)"
   ]
  },
  {
   "cell_type": "code",
   "execution_count": 22,
   "id": "0e3996cf",
   "metadata": {},
   "outputs": [],
   "source": [
    "entities =list(set(entities))"
   ]
  },
  {
   "cell_type": "code",
   "execution_count": 23,
   "id": "7efc1e45",
   "metadata": {},
   "outputs": [
    {
     "name": "stdout",
     "output_type": "stream",
     "text": [
      "[]\n"
     ]
    }
   ],
   "source": [
    "print (entities)"
   ]
  },
  {
   "cell_type": "code",
   "execution_count": null,
   "id": "78c63171",
   "metadata": {},
   "outputs": [],
   "source": []
  },
  {
   "cell_type": "code",
   "execution_count": null,
   "id": "c6f2b6f8",
   "metadata": {},
   "outputs": [],
   "source": []
  }
 ],
 "metadata": {
  "kernelspec": {
   "display_name": "Python 3 (ipykernel)",
   "language": "python",
   "name": "python3"
  },
  "language_info": {
   "codemirror_mode": {
    "name": "ipython",
    "version": 3
   },
   "file_extension": ".py",
   "mimetype": "text/x-python",
   "name": "python",
   "nbconvert_exporter": "python",
   "pygments_lexer": "ipython3",
   "version": "3.11.3"
  }
 },
 "nbformat": 4,
 "nbformat_minor": 5
}
